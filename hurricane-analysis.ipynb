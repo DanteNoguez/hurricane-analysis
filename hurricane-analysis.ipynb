{
 "cells": [
  {
   "cell_type": "code",
   "execution_count": 1,
   "id": "d8fb90f2",
   "metadata": {},
   "outputs": [],
   "source": [
    "# names of hurricanes\n",
    "names = ['Cuba I', 'San Felipe II Okeechobee', 'Bahamas', 'Cuba II', 'CubaBrownsville', 'Tampico', 'Labor Day', 'New England', 'Carol', 'Janet', 'Carla', 'Hattie', 'Beulah', 'Camille', 'Edith', 'Anita', 'David', 'Allen', 'Gilbert', 'Hugo', 'Andrew', 'Mitch', 'Isabel', 'Ivan', 'Emily', 'Katrina', 'Rita', 'Wilma', 'Dean', 'Felix', 'Matthew', 'Irma', 'Maria', 'Michael']\n",
    "\n",
    "# months of hurricanes\n",
    "months = ['October', 'September', 'September', 'November', 'August', 'September', 'September', 'September', 'September', 'September', 'September', 'October', 'September', 'August', 'September', 'September', 'August', 'August', 'September', 'September', 'August', 'October', 'September', 'September', 'July', 'August', 'September', 'October', 'August', 'September', 'October', 'September', 'September', 'October']\n",
    "\n",
    "# years of hurricanes\n",
    "years = [1924, 1928, 1932, 1932, 1933, 1933, 1935, 1938, 1953, 1955, 1961, 1961, 1967, 1969, 1971, 1977, 1979, 1980, 1988, 1989, 1992, 1998, 2003, 2004, 2005, 2005, 2005, 2005, 2007, 2007, 2016, 2017, 2017, 2018]\n",
    "\n",
    "# maximum sustained winds (mph) of hurricanes\n",
    "max_sustained_winds = [165, 160, 160, 175, 160, 160, 185, 160, 160, 175, 175, 160, 160, 175, 160, 175, 175, 190, 185, 160, 175, 180, 165, 165, 160, 175, 180, 185, 175, 175, 165, 180, 175, 160]\n",
    "\n",
    "# areas affected by each hurricane\n",
    "areas_affected = [['Central America', 'Mexico', 'Cuba', 'Florida', 'The Bahamas'], ['Lesser Antilles', 'The Bahamas', 'United States East Coast', 'Atlantic Canada'], ['The Bahamas', 'Northeastern United States'], ['Lesser Antilles', 'Jamaica', 'Cayman Islands', 'Cuba', 'The Bahamas', 'Bermuda'], ['The Bahamas', 'Cuba', 'Florida', 'Texas', 'Tamaulipas'], ['Jamaica', 'Yucatn Peninsula'], ['The Bahamas', 'Florida', 'Georgia', 'The Carolinas', 'Virginia'], ['Southeastern United States', 'Northeastern United States', 'Southwestern Quebec'], ['Bermuda', 'New England', 'Atlantic Canada'], ['Lesser Antilles', 'Central America'], ['Texas', 'Louisiana', 'Midwestern United States'], ['Central America'], ['The Caribbean', 'Mexico', 'Texas'], ['Cuba', 'United States Gulf Coast'], ['The Caribbean', 'Central America', 'Mexico', 'United States Gulf Coast'], ['Mexico'], ['The Caribbean', 'United States East coast'], ['The Caribbean', 'Yucatn Peninsula', 'Mexico', 'South Texas'], ['Jamaica', 'Venezuela', 'Central America', 'Hispaniola', 'Mexico'], ['The Caribbean', 'United States East Coast'], ['The Bahamas', 'Florida', 'United States Gulf Coast'], ['Central America', 'Yucatn Peninsula', 'South Florida'], ['Greater Antilles', 'Bahamas', 'Eastern United States', 'Ontario'], ['The Caribbean', 'Venezuela', 'United States Gulf Coast'], ['Windward Islands', 'Jamaica', 'Mexico', 'Texas'], ['Bahamas', 'United States Gulf Coast'], ['Cuba', 'United States Gulf Coast'], ['Greater Antilles', 'Central America', 'Florida'], ['The Caribbean', 'Central America'], ['Nicaragua', 'Honduras'], ['Antilles', 'Venezuela', 'Colombia', 'United States East Coast', 'Atlantic Canada'], ['Cape Verde', 'The Caribbean', 'British Virgin Islands', 'U.S. Virgin Islands', 'Cuba', 'Florida'], ['Lesser Antilles', 'Virgin Islands', 'Puerto Rico', 'Dominican Republic', 'Turks and Caicos Islands'], ['Central America', 'United States Gulf Coast (especially Florida Panhandle)']]\n",
    "\n",
    "# damages (USD($)) of hurricanes\n",
    "damages = ['Damages not recorded', '100M', 'Damages not recorded', '40M', '27.9M', '5M', 'Damages not recorded', '306M', '2M', '65.8M', '326M', '60.3M', '208M', '1.42B', '25.4M', 'Damages not recorded', '1.54B', '1.24B', '7.1B', '10B', '26.5B', '6.2B', '5.37B', '23.3B', '1.01B', '125B', '12B', '29.4B', '1.76B', '720M', '15.1B', '64.8B', '91.6B', '25.1B']\n",
    "\n",
    "# deaths for each hurricane\n",
    "deaths = [90,4000,16,3103,179,184,408,682,5,1023,43,319,688,259,37,11,2068,269,318,107,65,19325,51,124,17,1836,125,87,45,133,603,138,3057,74]\n"
   ]
  },
  {
   "cell_type": "code",
   "execution_count": 2,
   "id": "c4e7bdb9",
   "metadata": {},
   "outputs": [
    {
     "name": "stdout",
     "output_type": "stream",
     "text": [
      "['Damages not recorded', '100000000', 'Damages not recorded', '40000000', '279000000', '5000000', 'Damages not recorded', '306000000', '2000000', '658000000', '326000000', '603000000', '208000000', '142000000', '254000000', 'Damages not recorded', '154000000', '124000000', '71000000', '10000000', '265000000', '62000000', '537000000', '233000000', '101000000', '125000000', '12000000', '294000000', '176000000', '720000000', '151000000', '648000000', '916000000', '251000000']\n"
     ]
    }
   ],
   "source": [
    "# 1\n",
    "# Update Recorded Damages\n",
    "conversion = {\"M\": 1000000,\n",
    "              \"B\": 1000000000}\n",
    "\n",
    "def newdamages(damage):\n",
    "    ndamages = []\n",
    "    ndamages = [m.replace('M','000000') for m in damage]\n",
    "    ndamages = [b.replace('B','000000') for b in ndamages]\n",
    "    ndamages = [space.replace('.', '') for space in ndamages]\n",
    "    return ndamages\n",
    "# test function by updating damages\n",
    "updated_damages = newdamages(damages)\n",
    "print(updated_damages)"
   ]
  },
  {
   "cell_type": "code",
   "execution_count": 3,
   "id": "82359c59",
   "metadata": {},
   "outputs": [
    {
     "name": "stdout",
     "output_type": "stream",
     "text": [
      "{'Cuba I': {'Name': 'Cuba I', 'Month': 'October', 'Year': 1924, 'Max Sustained Wind': 165, 'Areas Affected': ['Central America', 'Mexico', 'Cuba', 'Florida', 'The Bahamas'], 'Damage': 'Damages not recorded', 'Deaths': 90}, 'San Felipe II Okeechobee': {'Name': 'San Felipe II Okeechobee', 'Month': 'September', 'Year': 1928, 'Max Sustained Wind': 160, 'Areas Affected': ['Lesser Antilles', 'The Bahamas', 'United States East Coast', 'Atlantic Canada'], 'Damage': '100000000', 'Deaths': 4000}, 'Bahamas': {'Name': 'Bahamas', 'Month': 'September', 'Year': 1932, 'Max Sustained Wind': 160, 'Areas Affected': ['The Bahamas', 'Northeastern United States'], 'Damage': 'Damages not recorded', 'Deaths': 16}, 'Cuba II': {'Name': 'Cuba II', 'Month': 'November', 'Year': 1932, 'Max Sustained Wind': 175, 'Areas Affected': ['Lesser Antilles', 'Jamaica', 'Cayman Islands', 'Cuba', 'The Bahamas', 'Bermuda'], 'Damage': '40000000', 'Deaths': 3103}, 'CubaBrownsville': {'Name': 'CubaBrownsville', 'Month': 'August', 'Year': 1933, 'Max Sustained Wind': 160, 'Areas Affected': ['The Bahamas', 'Cuba', 'Florida', 'Texas', 'Tamaulipas'], 'Damage': '279000000', 'Deaths': 179}, 'Tampico': {'Name': 'Tampico', 'Month': 'September', 'Year': 1933, 'Max Sustained Wind': 160, 'Areas Affected': ['Jamaica', 'Yucatn Peninsula'], 'Damage': '5000000', 'Deaths': 184}, 'Labor Day': {'Name': 'Labor Day', 'Month': 'September', 'Year': 1935, 'Max Sustained Wind': 185, 'Areas Affected': ['The Bahamas', 'Florida', 'Georgia', 'The Carolinas', 'Virginia'], 'Damage': 'Damages not recorded', 'Deaths': 408}, 'New England': {'Name': 'New England', 'Month': 'September', 'Year': 1938, 'Max Sustained Wind': 160, 'Areas Affected': ['Southeastern United States', 'Northeastern United States', 'Southwestern Quebec'], 'Damage': '306000000', 'Deaths': 682}, 'Carol': {'Name': 'Carol', 'Month': 'September', 'Year': 1953, 'Max Sustained Wind': 160, 'Areas Affected': ['Bermuda', 'New England', 'Atlantic Canada'], 'Damage': '2000000', 'Deaths': 5}, 'Janet': {'Name': 'Janet', 'Month': 'September', 'Year': 1955, 'Max Sustained Wind': 175, 'Areas Affected': ['Lesser Antilles', 'Central America'], 'Damage': '658000000', 'Deaths': 1023}, 'Carla': {'Name': 'Carla', 'Month': 'September', 'Year': 1961, 'Max Sustained Wind': 175, 'Areas Affected': ['Texas', 'Louisiana', 'Midwestern United States'], 'Damage': '326000000', 'Deaths': 43}, 'Hattie': {'Name': 'Hattie', 'Month': 'October', 'Year': 1961, 'Max Sustained Wind': 160, 'Areas Affected': ['Central America'], 'Damage': '603000000', 'Deaths': 319}, 'Beulah': {'Name': 'Beulah', 'Month': 'September', 'Year': 1967, 'Max Sustained Wind': 160, 'Areas Affected': ['The Caribbean', 'Mexico', 'Texas'], 'Damage': '208000000', 'Deaths': 688}, 'Camille': {'Name': 'Camille', 'Month': 'August', 'Year': 1969, 'Max Sustained Wind': 175, 'Areas Affected': ['Cuba', 'United States Gulf Coast'], 'Damage': '142000000', 'Deaths': 259}, 'Edith': {'Name': 'Edith', 'Month': 'September', 'Year': 1971, 'Max Sustained Wind': 160, 'Areas Affected': ['The Caribbean', 'Central America', 'Mexico', 'United States Gulf Coast'], 'Damage': '254000000', 'Deaths': 37}, 'Anita': {'Name': 'Anita', 'Month': 'September', 'Year': 1977, 'Max Sustained Wind': 175, 'Areas Affected': ['Mexico'], 'Damage': 'Damages not recorded', 'Deaths': 11}, 'David': {'Name': 'David', 'Month': 'August', 'Year': 1979, 'Max Sustained Wind': 175, 'Areas Affected': ['The Caribbean', 'United States East coast'], 'Damage': '154000000', 'Deaths': 2068}, 'Allen': {'Name': 'Allen', 'Month': 'August', 'Year': 1980, 'Max Sustained Wind': 190, 'Areas Affected': ['The Caribbean', 'Yucatn Peninsula', 'Mexico', 'South Texas'], 'Damage': '124000000', 'Deaths': 269}, 'Gilbert': {'Name': 'Gilbert', 'Month': 'September', 'Year': 1988, 'Max Sustained Wind': 185, 'Areas Affected': ['Jamaica', 'Venezuela', 'Central America', 'Hispaniola', 'Mexico'], 'Damage': '71000000', 'Deaths': 318}, 'Hugo': {'Name': 'Hugo', 'Month': 'September', 'Year': 1989, 'Max Sustained Wind': 160, 'Areas Affected': ['The Caribbean', 'United States East Coast'], 'Damage': '10000000', 'Deaths': 107}, 'Andrew': {'Name': 'Andrew', 'Month': 'August', 'Year': 1992, 'Max Sustained Wind': 175, 'Areas Affected': ['The Bahamas', 'Florida', 'United States Gulf Coast'], 'Damage': '265000000', 'Deaths': 65}, 'Mitch': {'Name': 'Mitch', 'Month': 'October', 'Year': 1998, 'Max Sustained Wind': 180, 'Areas Affected': ['Central America', 'Yucatn Peninsula', 'South Florida'], 'Damage': '62000000', 'Deaths': 19325}, 'Isabel': {'Name': 'Isabel', 'Month': 'September', 'Year': 2003, 'Max Sustained Wind': 165, 'Areas Affected': ['Greater Antilles', 'Bahamas', 'Eastern United States', 'Ontario'], 'Damage': '537000000', 'Deaths': 51}, 'Ivan': {'Name': 'Ivan', 'Month': 'September', 'Year': 2004, 'Max Sustained Wind': 165, 'Areas Affected': ['The Caribbean', 'Venezuela', 'United States Gulf Coast'], 'Damage': '233000000', 'Deaths': 124}, 'Emily': {'Name': 'Emily', 'Month': 'July', 'Year': 2005, 'Max Sustained Wind': 160, 'Areas Affected': ['Windward Islands', 'Jamaica', 'Mexico', 'Texas'], 'Damage': '101000000', 'Deaths': 17}, 'Katrina': {'Name': 'Katrina', 'Month': 'August', 'Year': 2005, 'Max Sustained Wind': 175, 'Areas Affected': ['Bahamas', 'United States Gulf Coast'], 'Damage': '125000000', 'Deaths': 1836}, 'Rita': {'Name': 'Rita', 'Month': 'September', 'Year': 2005, 'Max Sustained Wind': 180, 'Areas Affected': ['Cuba', 'United States Gulf Coast'], 'Damage': '12000000', 'Deaths': 125}, 'Wilma': {'Name': 'Wilma', 'Month': 'October', 'Year': 2005, 'Max Sustained Wind': 185, 'Areas Affected': ['Greater Antilles', 'Central America', 'Florida'], 'Damage': '294000000', 'Deaths': 87}, 'Dean': {'Name': 'Dean', 'Month': 'August', 'Year': 2007, 'Max Sustained Wind': 175, 'Areas Affected': ['The Caribbean', 'Central America'], 'Damage': '176000000', 'Deaths': 45}, 'Felix': {'Name': 'Felix', 'Month': 'September', 'Year': 2007, 'Max Sustained Wind': 175, 'Areas Affected': ['Nicaragua', 'Honduras'], 'Damage': '720000000', 'Deaths': 133}, 'Matthew': {'Name': 'Matthew', 'Month': 'October', 'Year': 2016, 'Max Sustained Wind': 165, 'Areas Affected': ['Antilles', 'Venezuela', 'Colombia', 'United States East Coast', 'Atlantic Canada'], 'Damage': '151000000', 'Deaths': 603}, 'Irma': {'Name': 'Irma', 'Month': 'September', 'Year': 2017, 'Max Sustained Wind': 180, 'Areas Affected': ['Cape Verde', 'The Caribbean', 'British Virgin Islands', 'U.S. Virgin Islands', 'Cuba', 'Florida'], 'Damage': '648000000', 'Deaths': 138}, 'Maria': {'Name': 'Maria', 'Month': 'September', 'Year': 2017, 'Max Sustained Wind': 175, 'Areas Affected': ['Lesser Antilles', 'Virgin Islands', 'Puerto Rico', 'Dominican Republic', 'Turks and Caicos Islands'], 'Damage': '916000000', 'Deaths': 3057}, 'Michael': {'Name': 'Michael', 'Month': 'October', 'Year': 2018, 'Max Sustained Wind': 160, 'Areas Affected': ['Central America', 'United States Gulf Coast (especially Florida Panhandle)'], 'Damage': '251000000', 'Deaths': 74}}\n"
     ]
    }
   ],
   "source": [
    "# 2 \n",
    "# Create a Table\n",
    "def hurricanes(name, month, year, wind, area, damage, death):\n",
    "    index = 0\n",
    "    hurricanes = {}\n",
    "    length = len(name)\n",
    "    while index < length:\n",
    "        hurricanes.update({name[index]: {\"Name\": name[index], \"Month\": month[index], \"Year\": year[index], \"Max Sustained Wind\": wind[index], \"Areas Affected\": area[index], \"Damage\": damage[index], \"Deaths\": death[index]}})\n",
    "        index += 1\n",
    "    return hurricanes\n",
    "\n",
    "# Create and view the hurricanes dictionary\n",
    "hurricanes = hurricanes(names, months, years, max_sustained_winds, areas_affected, updated_damages, deaths)\n",
    "print(hurricanes)"
   ]
  },
  {
   "cell_type": "code",
   "execution_count": 5,
   "id": "bd29b894",
   "metadata": {},
   "outputs": [
    {
     "name": "stdout",
     "output_type": "stream",
     "text": [
      "[{'Name': 'Bahamas', 'Month': 'September', 'Year': 1932, 'Max Sustained Wind': 160, 'Areas Affected': ['The Bahamas', 'Northeastern United States'], 'Damage': 'Damages not recorded', 'Deaths': 16}, {'Name': 'Cuba II', 'Month': 'November', 'Year': 1932, 'Max Sustained Wind': 175, 'Areas Affected': ['Lesser Antilles', 'Jamaica', 'Cayman Islands', 'Cuba', 'The Bahamas', 'Bermuda'], 'Damage': '40000000', 'Deaths': 3103}]\n"
     ]
    }
   ],
   "source": [
    "# 3\n",
    "# Organizing by Year\n",
    "from collections import defaultdict\n",
    "def canes_year(hurricanes):\n",
    "    cane = []\n",
    "    for k, v in hurricanes.items():\n",
    "        cane.append(v)\n",
    "    year = list(zip(years, cane))\n",
    "    newdict = defaultdict(list)\n",
    "    for k, v in year:\n",
    "        newdict[k].append(v)\n",
    "    return newdict\n",
    "\n",
    "# create a new dictionary of hurricanes with year and key\n",
    "hurricanes_year = canes_year(hurricanes)\n",
    "print(hurricanes_year[1932])"
   ]
  },
  {
   "cell_type": "code",
   "execution_count": 7,
   "id": "dc99667b",
   "metadata": {},
   "outputs": [
    {
     "name": "stdout",
     "output_type": "stream",
     "text": [
      "7\n"
     ]
    }
   ],
   "source": [
    "# 4\n",
    "# Counting Damaged Areas\n",
    "def canes_area(hurricanes):\n",
    "    areas = ()\n",
    "    for a in areas_affected:\n",
    "        areas += tuple(a)\n",
    "    d = defaultdict(int)\n",
    "    for k in areas:\n",
    "        d[k] += 1\n",
    "    return d\n",
    "\n",
    "# create dictionary of areas to store the number of hurricanes involved in\n",
    "hurricanes_area = canes_area(hurricanes)\n",
    "print(hurricanes_area['Mexico'])"
   ]
  },
  {
   "cell_type": "code",
   "execution_count": 9,
   "id": "6a60c990",
   "metadata": {},
   "outputs": [
    {
     "name": "stdout",
     "output_type": "stream",
     "text": [
      "9\n"
     ]
    }
   ],
   "source": [
    "# 5 \n",
    "# Calculating Maximum Hurricane Count\n",
    "def max_area(hurricanes):\n",
    "    areas = {k: v for k, v in sorted(hurricanes.items(), key=lambda item: item[1])}\n",
    "    return areas\n",
    "\n",
    "# find most frequently affected area and the number of hurricanes involved in\n",
    "max_area_affected = max_area(hurricanes_area)\n",
    "print(max_area_affected['Central America'])"
   ]
  },
  {
   "cell_type": "code",
   "execution_count": 10,
   "id": "c2be8d30",
   "metadata": {},
   "outputs": [
    {
     "name": "stdout",
     "output_type": "stream",
     "text": [
      "OrderedDict([(19325, ['Mitch']), (4000, ['San Felipe II Okeechobee']), (3103, ['Cuba II']), (3057, ['Maria']), (2068, ['David']), (1836, ['Katrina']), (1023, ['Janet']), (688, ['Beulah']), (682, ['New England']), (603, ['Matthew']), (408, ['Labor Day']), (319, ['Hattie']), (318, ['Gilbert']), (269, ['Allen']), (259, ['Camille']), (184, ['Tampico']), (179, ['CubaBrownsville']), (138, ['Irma']), (133, ['Felix']), (125, ['Rita']), (124, ['Ivan']), (107, ['Hugo']), (90, ['Cuba I']), (87, ['Wilma']), (74, ['Michael']), (65, ['Andrew']), (51, ['Isabel']), (45, ['Dean']), (43, ['Carla']), (37, ['Edith']), (17, ['Emily']), (16, ['Bahamas']), (11, ['Anita']), (5, ['Carol'])])\n"
     ]
    }
   ],
   "source": [
    "# 6\n",
    "# Calculating the Deadliest Hurricane\n",
    "def canes_deaths(hurricanes):\n",
    "    cane = []\n",
    "    for k, v in hurricanes.items():\n",
    "        cane.append(v['Name'])\n",
    "    death = list(zip(deaths, cane))\n",
    "    newdict = defaultdict(list)\n",
    "    for k, v in death:\n",
    "        newdict[k].append(v)\n",
    "    return newdict\n",
    "\n",
    "# find highest mortality hurricane and the number of deaths\n",
    "import collections\n",
    "hurricanes_deaths = canes_deaths(hurricanes)\n",
    "ordered_hdeaths = collections.OrderedDict(sorted(hurricanes_deaths.items(), reverse=True))\n",
    "print(ordered_hdeaths)"
   ]
  },
  {
   "cell_type": "code",
   "execution_count": 12,
   "id": "763adb66",
   "metadata": {},
   "outputs": [
    {
     "name": "stdout",
     "output_type": "stream",
     "text": [
      "{0: [(90, ['Cuba I']), (87, ['Wilma']), (74, ['Michael']), (65, ['Andrew']), (51, ['Isabel']), (45, ['Dean']), (43, ['Carla']), (37, ['Edith']), (17, ['Emily']), (16, ['Bahamas']), (11, ['Anita']), (5, ['Carol'])], 1: [(408, ['Labor Day']), (319, ['Hattie']), (318, ['Gilbert']), (269, ['Allen']), (259, ['Camille']), (184, ['Tampico']), (179, ['CubaBrownsville']), (138, ['Irma']), (133, ['Felix']), (125, ['Rita']), (124, ['Ivan']), (107, ['Hugo'])], 2: [], 3: [(4000, ['San Felipe II Okeechobee']), (3103, ['Cuba II']), (3057, ['Maria']), (2068, ['David']), (1836, ['Katrina']), (1023, ['Janet'])], 4: [(19325, ['Mitch'])]}\n"
     ]
    }
   ],
   "source": [
    "# 7\n",
    "# Rating Hurricanes by Mortality\n",
    "# categorize hurricanes in new dictionary with mortality severity as key\n",
    "def mortality(hurricanes):\n",
    "    hurricanes_by_mortality = {0:[],1:[],2:[],3:[],4:[]}\n",
    "    for k, v in hurricanes.items():\n",
    "        if k < 100:\n",
    "            hurricanes_by_mortality[0].append((k, v))\n",
    "        elif k >= 100 and k < 500:\n",
    "            hurricanes_by_mortality[1].append((k, v))\n",
    "        elif k >= 500 and k < 100:\n",
    "            hurricanes_by_mortality[2].append((k, v))\n",
    "        elif k >= 1000 and k < 10000:\n",
    "            hurricanes_by_mortality[3].append((k, v))\n",
    "        elif k >= 10000:\n",
    "            hurricanes_by_mortality[4].append((k, v))\n",
    "    return hurricanes_by_mortality\n",
    "\n",
    "mortality = mortality(ordered_hdeaths)\n",
    "print(mortality)"
   ]
  },
  {
   "cell_type": "code",
   "execution_count": 14,
   "id": "25085595",
   "metadata": {},
   "outputs": [
    {
     "name": "stdout",
     "output_type": "stream",
     "text": [
      "OrderedDict([(916000000, ['Dean']), (720000000, ['Katrina']), (658000000, ['Labor Day']), (648000000, ['Wilma']), (603000000, ['Carol']), (537000000, ['Gilbert']), (326000000, ['New England']), (306000000, ['CubaBrownsville']), (294000000, ['Ivan']), (279000000, ['Bahamas']), (265000000, ['David']), (254000000, ['Hattie']), (251000000, ['Felix']), (233000000, ['Hugo']), (208000000, ['Janet']), (176000000, ['Emily']), (154000000, ['Beulah']), (151000000, ['Rita']), (142000000, ['Carla']), (125000000, ['Mitch']), (124000000, ['Camille']), (101000000, ['Andrew']), (100000000, ['Cuba I']), (71000000, ['Edith']), (62000000, ['Allen']), (40000000, ['San Felipe II Okeechobee']), (12000000, ['Isabel']), (10000000, ['Anita']), (5000000, ['Cuba II']), (2000000, ['Tampico'])])\n"
     ]
    }
   ],
   "source": [
    "# 8 Calculating Hurricane Maximum Damage\n",
    "# find highest damage inducing hurricane and its total cost\n",
    "\n",
    "def canes_damage(hurricanes):\n",
    "    dmg = []\n",
    "    for num in updated_damages:\n",
    "        if num != 'Damages not recorded':\n",
    "            dmg.append(int(num))\n",
    "    cane = []\n",
    "    for k, v in hurricanes.items():\n",
    "        cane.append(v['Name'])\n",
    "    damage = list(zip(dmg, cane))\n",
    "    newdict = defaultdict(list)\n",
    "    for k, v in damage:\n",
    "        newdict[k].append(v)\n",
    "    return newdict\n",
    "\n",
    "hurricanes_damage = canes_damage(hurricanes)\n",
    "ordered_hdamage = collections.OrderedDict(sorted(hurricanes_damage.items(), reverse=True))\n",
    "print(ordered_hdamage)"
   ]
  },
  {
   "cell_type": "code",
   "execution_count": 15,
   "id": "7e8af98b",
   "metadata": {},
   "outputs": [
    {
     "name": "stdout",
     "output_type": "stream",
     "text": [
      "{0: [(71000000, ['Edith']), (62000000, ['Allen']), (40000000, ['San Felipe II Okeechobee']), (12000000, ['Isabel']), (10000000, ['Anita']), (5000000, ['Cuba II']), (2000000, ['Tampico'])], 1: [(916000000, ['Dean']), (720000000, ['Katrina']), (658000000, ['Labor Day']), (648000000, ['Wilma']), (603000000, ['Carol']), (537000000, ['Gilbert']), (326000000, ['New England']), (306000000, ['CubaBrownsville']), (294000000, ['Ivan']), (279000000, ['Bahamas']), (265000000, ['David']), (254000000, ['Hattie']), (251000000, ['Felix']), (233000000, ['Hugo']), (208000000, ['Janet']), (176000000, ['Emily']), (154000000, ['Beulah']), (151000000, ['Rita']), (142000000, ['Carla']), (125000000, ['Mitch']), (124000000, ['Camille']), (101000000, ['Andrew']), (100000000, ['Cuba I'])], 2: [], 3: [], 4: []}\n"
     ]
    }
   ],
   "source": [
    "# 9\n",
    "# Rating Hurricanes by Damage\n",
    "def scale(hurricanes):\n",
    "    damage_scale = {0:[],1:[],2:[],3:[],4:[]}\n",
    "    for k, v in hurricanes.items():\n",
    "        if k < 100000000:\n",
    "            damage_scale[0].append((k, v))\n",
    "        elif k >= 100000000 and k < 1000000000:\n",
    "            damage_scale[1].append((k, v))\n",
    "        elif k >= 1000000000 and k < 10000000000:\n",
    "            damage_scale[2].append((k, v))\n",
    "        elif k >= 10000000000 and k < 50000000000:\n",
    "            damage_scale[3].append((k, v))\n",
    "        elif k >= 50000000000:\n",
    "            damage_scale[4].append((k, v))\n",
    "    return damage_scale\n",
    "\n",
    "  \n",
    "# categorize hurricanes in new dictionary with damage severity as key\n",
    "damage_scale = scale(ordered_hdamage)\n",
    "print(damage_scale)"
   ]
  }
 ],
 "metadata": {
  "kernelspec": {
   "display_name": "Python 3 (ipykernel)",
   "language": "python",
   "name": "python3"
  },
  "language_info": {
   "codemirror_mode": {
    "name": "ipython",
    "version": 3
   },
   "file_extension": ".py",
   "mimetype": "text/x-python",
   "name": "python",
   "nbconvert_exporter": "python",
   "pygments_lexer": "ipython3",
   "version": "3.9.7"
  }
 },
 "nbformat": 4,
 "nbformat_minor": 5
}
